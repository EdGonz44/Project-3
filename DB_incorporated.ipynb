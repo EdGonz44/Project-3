{
 "cells": [
  {
   "cell_type": "code",
   "execution_count": null,
   "id": "5fe3c64b-8fa6-42bd-a9af-a4df1d94bf4f",
   "metadata": {},
   "outputs": [],
   "source": []
  },
  {
   "cell_type": "code",
   "execution_count": 1,
   "id": "d55891a4-b674-44bf-b6c8-000b31495781",
   "metadata": {},
   "outputs": [],
   "source": [
    "# Import dependencies\n",
    "from pymongo import MongoClient\n",
    "from pprint import pprint\n",
    "import pandas "
   ]
  },
  {
   "cell_type": "code",
   "execution_count": 2,
   "id": "28ed8356-1bf9-4ec1-bd97-4d0cf8e5cf0d",
   "metadata": {},
   "outputs": [],
   "source": [
    "# Create an instance of MongoClient\n",
    "mongo = MongoClient(port=27017)"
   ]
  },
  {
   "cell_type": "code",
   "execution_count": 3,
   "id": "0ef818de-2eef-4762-8ed7-691722a3d0d0",
   "metadata": {},
   "outputs": [
    {
     "name": "stdout",
     "output_type": "stream",
     "text": [
      "['admin',\n",
      " 'autosaurus',\n",
      " 'classDB',\n",
      " 'config',\n",
      " 'epa',\n",
      " 'fruits_db',\n",
      " 'local',\n",
      " 'met',\n",
      " 'petsitly_marketing',\n",
      " 'project3',\n",
      " 'uk_food']\n"
     ]
    }
   ],
   "source": [
    "# confirm that our new database was created\n",
    "pprint(mongo.list_database_names())\n"
   ]
  },
  {
   "cell_type": "code",
   "execution_count": 4,
   "id": "2a72834e-8c79-4c98-81c5-1e1f32921f64",
   "metadata": {},
   "outputs": [],
   "source": [
    "db = mongo['project3']"
   ]
  },
  {
   "cell_type": "code",
   "execution_count": 5,
   "id": "3717524a-93ca-4c40-9e8f-f5a3dd364092",
   "metadata": {},
   "outputs": [
    {
     "name": "stdout",
     "output_type": "stream",
     "text": [
      "['emissions', 'gdp', 'population', 'agriculture', 'pesticides']\n"
     ]
    }
   ],
   "source": [
    "print(db.list_collection_names())"
   ]
  },
  {
   "cell_type": "code",
   "execution_count": 8,
   "id": "8b38fb72-db2b-4a73-acee-4363805013a9",
   "metadata": {},
   "outputs": [],
   "source": [
    "emissions = db['emissions']\n",
    "gdp = db['gdp']\n",
    "population = db['population']\n",
    "agriculture = db['agriculture']\n",
    "pesticides = db['pesticides']"
   ]
  },
  {
   "cell_type": "code",
   "execution_count": 11,
   "id": "7eac5c79-97e7-40fa-a27a-3db57d8d1eb1",
   "metadata": {},
   "outputs": [
    {
     "ename": "NameError",
     "evalue": "name 'pd' is not defined",
     "output_type": "error",
     "traceback": [
      "\u001b[1;31m---------------------------------------------------------------------------\u001b[0m",
      "\u001b[1;31mNameError\u001b[0m                                 Traceback (most recent call last)",
      "Cell \u001b[1;32mIn[11], line 4\u001b[0m\n\u001b[0;32m      2\u001b[0m emi_docu \u001b[38;5;241m=\u001b[39m emissions\u001b[38;5;241m.\u001b[39mfind()\n\u001b[0;32m      3\u001b[0m emi_list \u001b[38;5;241m=\u001b[39m \u001b[38;5;28mlist\u001b[39m(emi_docu)\n\u001b[1;32m----> 4\u001b[0m emi_df \u001b[38;5;241m=\u001b[39m \u001b[43mpd\u001b[49m\u001b[38;5;241m.\u001b[39mDataFrame(emi_list)\n\u001b[0;32m      6\u001b[0m gdp_docu \u001b[38;5;241m=\u001b[39m gdp\u001b[38;5;241m.\u001b[39mfind()\n\u001b[0;32m      7\u001b[0m gdp_list \u001b[38;5;241m=\u001b[39m \u001b[38;5;28mlist\u001b[39m(emi_docu)\n",
      "\u001b[1;31mNameError\u001b[0m: name 'pd' is not defined"
     ]
    }
   ],
   "source": [
    "#Grabbing each collection into a giant DataFrame\n",
    "emi_docu = emissions.find()\n",
    "emi_list = list(emi_docu)\n",
    "emi_df = pd.DataFrame(emi_list)\n",
    "\n",
    "gdp_docu = gdp.find()\n",
    "gdp_list = list(emi_docu)\n",
    "gdp_df = pd.DataFrame(gdp_list)\n",
    "\n",
    "pop_docu =population.find()\n",
    "pop_list = list(pop_docu)\n",
    "pop_df = pd.DataFrame(pop_list)\n",
    "\n",
    "agr_docu = agriculture.find()\n",
    "agr_list = list(agr_docu)\n",
    "agr_df = pd.DataFrame(agr_list)\n",
    "\n",
    "pest_docu = pesticides.find()\n",
    "pest_list = list(pest_docu)\n",
    "pest_df = pd.DataFrame(pest_list)\n"
   ]
  },
  {
   "cell_type": "code",
   "execution_count": null,
   "id": "92667bd9-1a3e-4434-8791-e465218c3213",
   "metadata": {},
   "outputs": [],
   "source": []
  }
 ],
 "metadata": {
  "kernelspec": {
   "display_name": "Python 3 (ipykernel)",
   "language": "python",
   "name": "python3"
  },
  "language_info": {
   "codemirror_mode": {
    "name": "ipython",
    "version": 3
   },
   "file_extension": ".py",
   "mimetype": "text/x-python",
   "name": "python",
   "nbconvert_exporter": "python",
   "pygments_lexer": "ipython3",
   "version": "3.10.14"
  }
 },
 "nbformat": 4,
 "nbformat_minor": 5
}
