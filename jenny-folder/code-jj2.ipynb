{
 "cells": [
  {
   "cell_type": "code",
   "execution_count": 1,
   "id": "d9c32383-a433-440e-bb36-019496f023ac",
   "metadata": {},
   "outputs": [],
   "source": [
    "# Dependencies\n",
    "from matplotlib import pyplot as plt\n",
    "from scipy.stats import pearsonr, linregress\n",
    "import numpy as np\n",
    "import pandas as pd"
   ]
  },
  {
   "cell_type": "markdown",
   "id": "b6ca54c0-3af5-4b02-9dd8-018d1df6fe42",
   "metadata": {},
   "source": [
    "### Data Cleaning"
   ]
  },
  {
   "cell_type": "code",
   "execution_count": 2,
   "id": "055e3ea4-712e-4a80-910e-f56831ae88b2",
   "metadata": {},
   "outputs": [
    {
     "data": {
      "text/html": [
       "<div>\n",
       "<style scoped>\n",
       "    .dataframe tbody tr th:only-of-type {\n",
       "        vertical-align: middle;\n",
       "    }\n",
       "\n",
       "    .dataframe tbody tr th {\n",
       "        vertical-align: top;\n",
       "    }\n",
       "\n",
       "    .dataframe thead th {\n",
       "        text-align: right;\n",
       "    }\n",
       "</style>\n",
       "<table border=\"1\" class=\"dataframe\">\n",
       "  <thead>\n",
       "    <tr style=\"text-align: right;\">\n",
       "      <th></th>\n",
       "      <th>Country</th>\n",
       "      <th>Year</th>\n",
       "      <th>CO2_Emissions</th>\n",
       "    </tr>\n",
       "  </thead>\n",
       "  <tbody>\n",
       "    <tr>\n",
       "      <th>0</th>\n",
       "      <td>Aruba</td>\n",
       "      <td>1960</td>\n",
       "      <td>11092.675</td>\n",
       "    </tr>\n",
       "    <tr>\n",
       "      <th>1</th>\n",
       "      <td>Aruba</td>\n",
       "      <td>1961</td>\n",
       "      <td>11576.719</td>\n",
       "    </tr>\n",
       "    <tr>\n",
       "      <th>2</th>\n",
       "      <td>Aruba</td>\n",
       "      <td>1962</td>\n",
       "      <td>12713.489</td>\n",
       "    </tr>\n",
       "    <tr>\n",
       "      <th>3</th>\n",
       "      <td>Aruba</td>\n",
       "      <td>1963</td>\n",
       "      <td>12178.107</td>\n",
       "    </tr>\n",
       "    <tr>\n",
       "      <th>4</th>\n",
       "      <td>Aruba</td>\n",
       "      <td>1964</td>\n",
       "      <td>11840.743</td>\n",
       "    </tr>\n",
       "  </tbody>\n",
       "</table>\n",
       "</div>"
      ],
      "text/plain": [
       "  Country  Year  CO2_Emissions\n",
       "0   Aruba  1960      11092.675\n",
       "1   Aruba  1961      11576.719\n",
       "2   Aruba  1962      12713.489\n",
       "3   Aruba  1963      12178.107\n",
       "4   Aruba  1964      11840.743"
      ]
     },
     "execution_count": 2,
     "metadata": {},
     "output_type": "execute_result"
    }
   ],
   "source": [
    "# import and clean emissions_df\n",
    "emissions_df = pd.read_csv('Resources/co2_emissions_kt_by_country.csv')\n",
    "emissions_df = emissions_df[['country_name', 'year', 'value']]\n",
    "emissions_df.columns = ['Country', 'Year', 'CO2_Emissions']\n",
    "emissions_df.head()"
   ]
  },
  {
   "cell_type": "code",
   "execution_count": 3,
   "id": "ed422333-b6e9-45ce-b672-1f89c2dbfc4b",
   "metadata": {},
   "outputs": [
    {
     "data": {
      "text/plain": [
       "Country\n",
       "St. Lucia                    60\n",
       "Haiti                        60\n",
       "Lao PDR                      60\n",
       "Lebanon                      60\n",
       "Liberia                      60\n",
       "                             ..\n",
       "West Bank and Gaza           27\n",
       "Turks and Caicos Islands     27\n",
       "Kosovo                        9\n",
       "Curacao                       5\n",
       "Sint Maarten (Dutch part)     3\n",
       "Name: count, Length: 256, dtype: int64"
      ]
     },
     "execution_count": 3,
     "metadata": {},
     "output_type": "execute_result"
    }
   ],
   "source": [
    "# Count occurrences of each country\n",
    "country_counts = emissions_df['Country'].value_counts()\n",
    "\n",
    "# Display\n",
    "country_counts"
   ]
  },
  {
   "cell_type": "code",
   "execution_count": 4,
   "id": "513fa467-ac49-4916-9d38-448b1b77e1b7",
   "metadata": {},
   "outputs": [
    {
     "data": {
      "text/html": [
       "<div>\n",
       "<style scoped>\n",
       "    .dataframe tbody tr th:only-of-type {\n",
       "        vertical-align: middle;\n",
       "    }\n",
       "\n",
       "    .dataframe tbody tr th {\n",
       "        vertical-align: top;\n",
       "    }\n",
       "\n",
       "    .dataframe thead th {\n",
       "        text-align: right;\n",
       "    }\n",
       "</style>\n",
       "<table border=\"1\" class=\"dataframe\">\n",
       "  <thead>\n",
       "    <tr style=\"text-align: right;\">\n",
       "      <th></th>\n",
       "      <th>Country</th>\n",
       "      <th>Year</th>\n",
       "      <th>Pesticides_Used</th>\n",
       "    </tr>\n",
       "  </thead>\n",
       "  <tbody>\n",
       "    <tr>\n",
       "      <th>0</th>\n",
       "      <td>Africa</td>\n",
       "      <td>1990</td>\n",
       "      <td>73958.66</td>\n",
       "    </tr>\n",
       "    <tr>\n",
       "      <th>1</th>\n",
       "      <td>Africa</td>\n",
       "      <td>1991</td>\n",
       "      <td>69956.26</td>\n",
       "    </tr>\n",
       "    <tr>\n",
       "      <th>2</th>\n",
       "      <td>Africa</td>\n",
       "      <td>1992</td>\n",
       "      <td>60260.71</td>\n",
       "    </tr>\n",
       "    <tr>\n",
       "      <th>3</th>\n",
       "      <td>Africa</td>\n",
       "      <td>1993</td>\n",
       "      <td>54301.62</td>\n",
       "    </tr>\n",
       "    <tr>\n",
       "      <th>4</th>\n",
       "      <td>Africa</td>\n",
       "      <td>1994</td>\n",
       "      <td>58819.04</td>\n",
       "    </tr>\n",
       "  </tbody>\n",
       "</table>\n",
       "</div>"
      ],
      "text/plain": [
       "  Country  Year  Pesticides_Used\n",
       "0  Africa  1990         73958.66\n",
       "1  Africa  1991         69956.26\n",
       "2  Africa  1992         60260.71\n",
       "3  Africa  1993         54301.62\n",
       "4  Africa  1994         58819.04"
      ]
     },
     "execution_count": 4,
     "metadata": {},
     "output_type": "execute_result"
    }
   ],
   "source": [
    "# import and clean pesticide_df\n",
    "pesticide_df = pd.read_csv('Resources/pesticide-use-tonnes.csv')\n",
    "pesticide_df = pesticide_df[['Entity', 'Year', 'Pesticides (total) | 00001357 || Agricultural Use | 005157 || Tonnes']]\n",
    "pesticide_df.columns = ['Country', 'Year', 'Pesticides_Used']\n",
    "pesticide_df['Country'] = pesticide_df['Country'].str.replace(r\"\\s*\\(.*\\)\", \"\", regex=True).str.strip()\n",
    "pesticide_df.head()"
   ]
  },
  {
   "cell_type": "code",
   "execution_count": 5,
   "id": "b87c5106-96e2-4a67-a4c8-808e79e4f2f1",
   "metadata": {},
   "outputs": [
    {
     "data": {
      "text/plain": [
       "Country\n",
       "China                 64\n",
       "Africa                32\n",
       "Oceania               32\n",
       "New Caledonia         32\n",
       "New Zealand           32\n",
       "                      ..\n",
       "Sint Maarten          11\n",
       "Belgium-Luxembourg    10\n",
       "Czechoslovakia         3\n",
       "USSR                   2\n",
       "Yugoslavia             2\n",
       "Name: count, Length: 248, dtype: int64"
      ]
     },
     "execution_count": 5,
     "metadata": {},
     "output_type": "execute_result"
    }
   ],
   "source": [
    "# Count occurrences of each country\n",
    "country_counts = pesticide_df['Country'].value_counts()\n",
    "\n",
    "# Display\n",
    "country_counts"
   ]
  },
  {
   "cell_type": "code",
   "execution_count": 6,
   "id": "04884085-9e52-48b0-9de4-84b3a10d2201",
   "metadata": {},
   "outputs": [
    {
     "data": {
      "text/html": [
       "<div>\n",
       "<style scoped>\n",
       "    .dataframe tbody tr th:only-of-type {\n",
       "        vertical-align: middle;\n",
       "    }\n",
       "\n",
       "    .dataframe tbody tr th {\n",
       "        vertical-align: top;\n",
       "    }\n",
       "\n",
       "    .dataframe thead th {\n",
       "        text-align: right;\n",
       "    }\n",
       "</style>\n",
       "<table border=\"1\" class=\"dataframe\">\n",
       "  <thead>\n",
       "    <tr style=\"text-align: right;\">\n",
       "      <th></th>\n",
       "      <th>Country</th>\n",
       "      <th>Year</th>\n",
       "      <th>Population</th>\n",
       "    </tr>\n",
       "  </thead>\n",
       "  <tbody>\n",
       "    <tr>\n",
       "      <th>0</th>\n",
       "      <td>Afghanistan</td>\n",
       "      <td>-10000</td>\n",
       "      <td>14737</td>\n",
       "    </tr>\n",
       "    <tr>\n",
       "      <th>1</th>\n",
       "      <td>Afghanistan</td>\n",
       "      <td>-9000</td>\n",
       "      <td>20405</td>\n",
       "    </tr>\n",
       "    <tr>\n",
       "      <th>2</th>\n",
       "      <td>Afghanistan</td>\n",
       "      <td>-8000</td>\n",
       "      <td>28253</td>\n",
       "    </tr>\n",
       "    <tr>\n",
       "      <th>3</th>\n",
       "      <td>Afghanistan</td>\n",
       "      <td>-7000</td>\n",
       "      <td>39120</td>\n",
       "    </tr>\n",
       "    <tr>\n",
       "      <th>4</th>\n",
       "      <td>Afghanistan</td>\n",
       "      <td>-6000</td>\n",
       "      <td>54166</td>\n",
       "    </tr>\n",
       "  </tbody>\n",
       "</table>\n",
       "</div>"
      ],
      "text/plain": [
       "       Country   Year  Population\n",
       "0  Afghanistan -10000       14737\n",
       "1  Afghanistan  -9000       20405\n",
       "2  Afghanistan  -8000       28253\n",
       "3  Afghanistan  -7000       39120\n",
       "4  Afghanistan  -6000       54166"
      ]
     },
     "execution_count": 6,
     "metadata": {},
     "output_type": "execute_result"
    }
   ],
   "source": [
    "# import and clean population_df\n",
    "population_df = pd.read_csv('Resources/population.csv')\n",
    "population_df = population_df[['Entity', 'Year', 'Population (historical)']]\n",
    "population_df.columns = ['Country', 'Year', 'Population']\n",
    "population_df.head()"
   ]
  },
  {
   "cell_type": "code",
   "execution_count": 7,
   "id": "2f5c4807-3e60-49aa-898e-502f77059cb7",
   "metadata": {},
   "outputs": [
    {
     "data": {
      "text/plain": [
       "Country\n",
       "European Union (27)              265\n",
       "Asia                             265\n",
       "High-income countries            265\n",
       "North America                    265\n",
       "Lower-middle-income countries    265\n",
       "                                ... \n",
       "Yemen Arab Republic               23\n",
       "Yemen People's Republic           23\n",
       "East Germany                       8\n",
       "West Germany                       8\n",
       "Akrotiri and Dhekelia              3\n",
       "Name: count, Length: 271, dtype: int64"
      ]
     },
     "execution_count": 7,
     "metadata": {},
     "output_type": "execute_result"
    }
   ],
   "source": [
    "# Count occurrences of each country\n",
    "country_counts = population_df['Country'].value_counts()\n",
    "\n",
    "# Display\n",
    "country_counts"
   ]
  },
  {
   "cell_type": "code",
   "execution_count": 8,
   "id": "72fada9f-285f-4ed4-a20b-4c06410441ec",
   "metadata": {},
   "outputs": [
    {
     "data": {
      "text/html": [
       "<div>\n",
       "<style scoped>\n",
       "    .dataframe tbody tr th:only-of-type {\n",
       "        vertical-align: middle;\n",
       "    }\n",
       "\n",
       "    .dataframe tbody tr th {\n",
       "        vertical-align: top;\n",
       "    }\n",
       "\n",
       "    .dataframe thead th {\n",
       "        text-align: right;\n",
       "    }\n",
       "</style>\n",
       "<table border=\"1\" class=\"dataframe\">\n",
       "  <thead>\n",
       "    <tr style=\"text-align: right;\">\n",
       "      <th></th>\n",
       "      <th>Country</th>\n",
       "      <th>Year</th>\n",
       "      <th>Mean_Crop_Yield_MT_per_HA</th>\n",
       "      <th>Mean_Pesticide_Use_KG_per_HA</th>\n",
       "    </tr>\n",
       "  </thead>\n",
       "  <tbody>\n",
       "    <tr>\n",
       "      <th>0</th>\n",
       "      <td>Argentina</td>\n",
       "      <td>1990</td>\n",
       "      <td>2.400480</td>\n",
       "      <td>26.308400</td>\n",
       "    </tr>\n",
       "    <tr>\n",
       "      <th>1</th>\n",
       "      <td>Argentina</td>\n",
       "      <td>1991</td>\n",
       "      <td>2.089216</td>\n",
       "      <td>28.136486</td>\n",
       "    </tr>\n",
       "    <tr>\n",
       "      <th>2</th>\n",
       "      <td>Argentina</td>\n",
       "      <td>1992</td>\n",
       "      <td>2.192125</td>\n",
       "      <td>29.538750</td>\n",
       "    </tr>\n",
       "    <tr>\n",
       "      <th>3</th>\n",
       "      <td>Argentina</td>\n",
       "      <td>1993</td>\n",
       "      <td>2.147947</td>\n",
       "      <td>25.887368</td>\n",
       "    </tr>\n",
       "    <tr>\n",
       "      <th>4</th>\n",
       "      <td>Argentina</td>\n",
       "      <td>1994</td>\n",
       "      <td>1.815600</td>\n",
       "      <td>23.214000</td>\n",
       "    </tr>\n",
       "  </tbody>\n",
       "</table>\n",
       "</div>"
      ],
      "text/plain": [
       "     Country  Year  Mean_Crop_Yield_MT_per_HA  Mean_Pesticide_Use_KG_per_HA\n",
       "0  Argentina  1990                   2.400480                     26.308400\n",
       "1  Argentina  1991                   2.089216                     28.136486\n",
       "2  Argentina  1992                   2.192125                     29.538750\n",
       "3  Argentina  1993                   2.147947                     25.887368\n",
       "4  Argentina  1994                   1.815600                     23.214000"
      ]
     },
     "execution_count": 8,
     "metadata": {},
     "output_type": "execute_result"
    }
   ],
   "source": [
    "# import and clean cc_impact_on_ag_df\n",
    "cc_impact_on_ag_df = pd.read_csv('Resources/climate_change_impact_on_agriculture_2024.csv')\n",
    "cc_impact_on_ag_df = cc_impact_on_ag_df[['Year', 'Country', 'Crop_Yield_MT_per_HA', 'Pesticide_Use_KG_per_HA']]\n",
    "cc_impact_grouped = cc_impact_on_ag_df.groupby(['Country', 'Year']).mean().reset_index()\n",
    "cc_impact_grouped.columns = ['Country', 'Year', 'Mean_Crop_Yield_MT_per_HA', 'Mean_Pesticide_Use_KG_per_HA']\n",
    "cc_impact_grouped.head()"
   ]
  },
  {
   "cell_type": "code",
   "execution_count": 9,
   "id": "153efe67-2065-4f73-97e9-7e1d626cf6f1",
   "metadata": {},
   "outputs": [
    {
     "data": {
      "text/plain": [
       "Country\n",
       "Argentina    35\n",
       "Australia    35\n",
       "Brazil       35\n",
       "Canada       35\n",
       "China        35\n",
       "France       35\n",
       "India        35\n",
       "Nigeria      35\n",
       "Russia       35\n",
       "USA          35\n",
       "Name: count, dtype: int64"
      ]
     },
     "execution_count": 9,
     "metadata": {},
     "output_type": "execute_result"
    }
   ],
   "source": [
    "# Count occurrences of each country\n",
    "country_counts = cc_impact_grouped['Country'].value_counts()\n",
    "\n",
    "# Display\n",
    "country_counts"
   ]
  },
  {
   "cell_type": "code",
   "execution_count": 10,
   "id": "a4a5bd41-36fa-4be0-b6f8-733484bd9443",
   "metadata": {},
   "outputs": [
    {
     "name": "stdout",
     "output_type": "stream",
     "text": [
      "\n",
      " emissions_df : \n",
      "<class 'pandas.core.frame.DataFrame'>\n",
      "RangeIndex: 13953 entries, 0 to 13952\n",
      "Data columns (total 3 columns):\n",
      " #   Column         Non-Null Count  Dtype  \n",
      "---  ------         --------------  -----  \n",
      " 0   Country        13953 non-null  object \n",
      " 1   Year           13953 non-null  int64  \n",
      " 2   CO2_Emissions  13953 non-null  float64\n",
      "dtypes: float64(1), int64(1), object(1)\n",
      "memory usage: 327.1+ KB\n",
      "\n",
      " pesticide_df: \n",
      "<class 'pandas.core.frame.DataFrame'>\n",
      "RangeIndex: 7705 entries, 0 to 7704\n",
      "Data columns (total 3 columns):\n",
      " #   Column           Non-Null Count  Dtype  \n",
      "---  ------           --------------  -----  \n",
      " 0   Country          7705 non-null   object \n",
      " 1   Year             7705 non-null   int64  \n",
      " 2   Pesticides_Used  7705 non-null   float64\n",
      "dtypes: float64(1), int64(1), object(1)\n",
      "memory usage: 180.7+ KB\n",
      "\n",
      " population_df: \n",
      "<class 'pandas.core.frame.DataFrame'>\n",
      "RangeIndex: 59177 entries, 0 to 59176\n",
      "Data columns (total 3 columns):\n",
      " #   Column      Non-Null Count  Dtype \n",
      "---  ------      --------------  ----- \n",
      " 0   Country     59177 non-null  object\n",
      " 1   Year        59177 non-null  int64 \n",
      " 2   Population  59177 non-null  int64 \n",
      "dtypes: int64(2), object(1)\n",
      "memory usage: 1.4+ MB\n",
      "\n",
      " cc_impact_grouped: \n",
      "<class 'pandas.core.frame.DataFrame'>\n",
      "RangeIndex: 350 entries, 0 to 349\n",
      "Data columns (total 4 columns):\n",
      " #   Column                        Non-Null Count  Dtype  \n",
      "---  ------                        --------------  -----  \n",
      " 0   Country                       350 non-null    object \n",
      " 1   Year                          350 non-null    int64  \n",
      " 2   Mean_Crop_Yield_MT_per_HA     350 non-null    float64\n",
      " 3   Mean_Pesticide_Use_KG_per_HA  350 non-null    float64\n",
      "dtypes: float64(2), int64(1), object(1)\n",
      "memory usage: 11.1+ KB\n"
     ]
    }
   ],
   "source": [
    "# check data types of dfs\n",
    "print(f\"\\n emissions_df : \")\n",
    "emissions_df.info()\n",
    "\n",
    "print(f\"\\n pesticide_df: \")\n",
    "pesticide_df.info()\n",
    "\n",
    "print(f\"\\n population_df: \")\n",
    "population_df.info()\n",
    "\n",
    "print(f\"\\n cc_impact_grouped: \")\n",
    "cc_impact_grouped.info()"
   ]
  },
  {
   "cell_type": "markdown",
   "id": "27b3c64f-2a96-4c24-a589-927e16fb3054",
   "metadata": {},
   "source": [
    "### Merge Data"
   ]
  },
  {
   "cell_type": "code",
   "execution_count": 11,
   "id": "57e0b162-a2af-4989-84d3-3bf41eb0066c",
   "metadata": {},
   "outputs": [
    {
     "data": {
      "text/html": [
       "<div>\n",
       "<style scoped>\n",
       "    .dataframe tbody tr th:only-of-type {\n",
       "        vertical-align: middle;\n",
       "    }\n",
       "\n",
       "    .dataframe tbody tr th {\n",
       "        vertical-align: top;\n",
       "    }\n",
       "\n",
       "    .dataframe thead th {\n",
       "        text-align: right;\n",
       "    }\n",
       "</style>\n",
       "<table border=\"1\" class=\"dataframe\">\n",
       "  <thead>\n",
       "    <tr style=\"text-align: right;\">\n",
       "      <th></th>\n",
       "      <th>Country</th>\n",
       "      <th>Year</th>\n",
       "      <th>CO2_Emissions</th>\n",
       "      <th>Pesticides_Used</th>\n",
       "      <th>Population</th>\n",
       "      <th>Mean_Crop_Yield_MT_per_HA</th>\n",
       "      <th>Mean_Pesticide_Use_KG_per_HA</th>\n",
       "    </tr>\n",
       "  </thead>\n",
       "  <tbody>\n",
       "    <tr>\n",
       "      <th>0</th>\n",
       "      <td>Argentina</td>\n",
       "      <td>1990</td>\n",
       "      <td>100320.000000</td>\n",
       "      <td>26156.00</td>\n",
       "      <td>32755907</td>\n",
       "      <td>2.400480</td>\n",
       "      <td>26.308400</td>\n",
       "    </tr>\n",
       "    <tr>\n",
       "      <th>1</th>\n",
       "      <td>Argentina</td>\n",
       "      <td>1991</td>\n",
       "      <td>105920.000000</td>\n",
       "      <td>26156.00</td>\n",
       "      <td>33230292</td>\n",
       "      <td>2.089216</td>\n",
       "      <td>28.136486</td>\n",
       "    </tr>\n",
       "    <tr>\n",
       "      <th>2</th>\n",
       "      <td>Argentina</td>\n",
       "      <td>1992</td>\n",
       "      <td>107930.000000</td>\n",
       "      <td>26156.00</td>\n",
       "      <td>33693532</td>\n",
       "      <td>2.192125</td>\n",
       "      <td>29.538750</td>\n",
       "    </tr>\n",
       "    <tr>\n",
       "      <th>3</th>\n",
       "      <td>Argentina</td>\n",
       "      <td>1993</td>\n",
       "      <td>110260.000000</td>\n",
       "      <td>26156.00</td>\n",
       "      <td>34152718</td>\n",
       "      <td>2.147947</td>\n",
       "      <td>25.887368</td>\n",
       "    </tr>\n",
       "    <tr>\n",
       "      <th>4</th>\n",
       "      <td>Argentina</td>\n",
       "      <td>1994</td>\n",
       "      <td>111910.000000</td>\n",
       "      <td>30195.00</td>\n",
       "      <td>34613491</td>\n",
       "      <td>1.815600</td>\n",
       "      <td>23.214000</td>\n",
       "    </tr>\n",
       "    <tr>\n",
       "      <th>...</th>\n",
       "      <td>...</td>\n",
       "      <td>...</td>\n",
       "      <td>...</td>\n",
       "      <td>...</td>\n",
       "      <td>...</td>\n",
       "      <td>...</td>\n",
       "      <td>...</td>\n",
       "    </tr>\n",
       "    <tr>\n",
       "      <th>265</th>\n",
       "      <td>Nigeria</td>\n",
       "      <td>2015</td>\n",
       "      <td>107760.002136</td>\n",
       "      <td>31255.23</td>\n",
       "      <td>190671883</td>\n",
       "      <td>2.296892</td>\n",
       "      <td>22.640270</td>\n",
       "    </tr>\n",
       "    <tr>\n",
       "      <th>266</th>\n",
       "      <td>Nigeria</td>\n",
       "      <td>2016</td>\n",
       "      <td>110830.001831</td>\n",
       "      <td>26751.43</td>\n",
       "      <td>195443699</td>\n",
       "      <td>2.261244</td>\n",
       "      <td>27.208222</td>\n",
       "    </tr>\n",
       "    <tr>\n",
       "      <th>267</th>\n",
       "      <td>Nigeria</td>\n",
       "      <td>2017</td>\n",
       "      <td>108500.000000</td>\n",
       "      <td>36466.57</td>\n",
       "      <td>200254578</td>\n",
       "      <td>2.413250</td>\n",
       "      <td>21.509643</td>\n",
       "    </tr>\n",
       "    <tr>\n",
       "      <th>268</th>\n",
       "      <td>Nigeria</td>\n",
       "      <td>2018</td>\n",
       "      <td>109889.999390</td>\n",
       "      <td>47121.31</td>\n",
       "      <td>204938753</td>\n",
       "      <td>2.410724</td>\n",
       "      <td>30.836552</td>\n",
       "    </tr>\n",
       "    <tr>\n",
       "      <th>269</th>\n",
       "      <td>Nigeria</td>\n",
       "      <td>2019</td>\n",
       "      <td>115279.998779</td>\n",
       "      <td>53953.79</td>\n",
       "      <td>209485636</td>\n",
       "      <td>2.478034</td>\n",
       "      <td>25.114483</td>\n",
       "    </tr>\n",
       "  </tbody>\n",
       "</table>\n",
       "<p>270 rows × 7 columns</p>\n",
       "</div>"
      ],
      "text/plain": [
       "       Country  Year  CO2_Emissions  Pesticides_Used  Population  \\\n",
       "0    Argentina  1990  100320.000000         26156.00    32755907   \n",
       "1    Argentina  1991  105920.000000         26156.00    33230292   \n",
       "2    Argentina  1992  107930.000000         26156.00    33693532   \n",
       "3    Argentina  1993  110260.000000         26156.00    34152718   \n",
       "4    Argentina  1994  111910.000000         30195.00    34613491   \n",
       "..         ...   ...            ...              ...         ...   \n",
       "265    Nigeria  2015  107760.002136         31255.23   190671883   \n",
       "266    Nigeria  2016  110830.001831         26751.43   195443699   \n",
       "267    Nigeria  2017  108500.000000         36466.57   200254578   \n",
       "268    Nigeria  2018  109889.999390         47121.31   204938753   \n",
       "269    Nigeria  2019  115279.998779         53953.79   209485636   \n",
       "\n",
       "     Mean_Crop_Yield_MT_per_HA  Mean_Pesticide_Use_KG_per_HA  \n",
       "0                     2.400480                     26.308400  \n",
       "1                     2.089216                     28.136486  \n",
       "2                     2.192125                     29.538750  \n",
       "3                     2.147947                     25.887368  \n",
       "4                     1.815600                     23.214000  \n",
       "..                         ...                           ...  \n",
       "265                   2.296892                     22.640270  \n",
       "266                   2.261244                     27.208222  \n",
       "267                   2.413250                     21.509643  \n",
       "268                   2.410724                     30.836552  \n",
       "269                   2.478034                     25.114483  \n",
       "\n",
       "[270 rows x 7 columns]"
      ]
     },
     "execution_count": 11,
     "metadata": {},
     "output_type": "execute_result"
    }
   ],
   "source": [
    "# Merge dfs\n",
    "merged_df = pd.merge(emissions_df, pesticide_df, on=['Country', 'Year'], how='inner')\n",
    "merged_df = pd.merge(merged_df, population_df, on=['Country', 'Year'], how='inner')\n",
    "merged_df = pd.merge(merged_df, cc_impact_grouped, on=['Country', 'Year'], how='inner')\n",
    "merged_df"
   ]
  },
  {
   "cell_type": "code",
   "execution_count": 12,
   "id": "32adbc41-3eef-4f90-ad01-7216c4ddb7f2",
   "metadata": {},
   "outputs": [
    {
     "data": {
      "text/plain": [
       "Country\n",
       "China        60\n",
       "Argentina    30\n",
       "Australia    30\n",
       "Brazil       30\n",
       "Canada       30\n",
       "France       30\n",
       "India        30\n",
       "Nigeria      30\n",
       "Name: count, dtype: int64"
      ]
     },
     "execution_count": 12,
     "metadata": {},
     "output_type": "execute_result"
    }
   ],
   "source": [
    "# Count occurrences of each country\n",
    "country_counts = merged_df['Country'].value_counts()\n",
    "\n",
    "# Display\n",
    "country_counts"
   ]
  },
  {
   "cell_type": "code",
   "execution_count": 13,
   "id": "2acc5e67-10aa-4a87-8b55-8f35a89ce974",
   "metadata": {},
   "outputs": [
    {
     "name": "stdout",
     "output_type": "stream",
     "text": [
      "<class 'pandas.core.frame.DataFrame'>\n",
      "RangeIndex: 270 entries, 0 to 269\n",
      "Data columns (total 7 columns):\n",
      " #   Column                        Non-Null Count  Dtype  \n",
      "---  ------                        --------------  -----  \n",
      " 0   Country                       270 non-null    object \n",
      " 1   Year                          270 non-null    int64  \n",
      " 2   CO2_Emissions                 270 non-null    float64\n",
      " 3   Pesticides_Used               270 non-null    float64\n",
      " 4   Population                    270 non-null    int64  \n",
      " 5   Mean_Crop_Yield_MT_per_HA     270 non-null    float64\n",
      " 6   Mean_Pesticide_Use_KG_per_HA  270 non-null    float64\n",
      "dtypes: float64(4), int64(2), object(1)\n",
      "memory usage: 14.9+ KB\n"
     ]
    }
   ],
   "source": [
    "merged_df.info()"
   ]
  },
  {
   "cell_type": "code",
   "execution_count": 14,
   "id": "eae45945-ce5f-4e51-b2c2-9777701fe1e9",
   "metadata": {},
   "outputs": [
    {
     "data": {
      "text/plain": [
       "['Country',\n",
       " 'Year',\n",
       " 'CO2_Emissions',\n",
       " 'Pesticides_Used',\n",
       " 'Population',\n",
       " 'Mean_Crop_Yield_MT_per_HA',\n",
       " 'Mean_Pesticide_Use_KG_per_HA']"
      ]
     },
     "execution_count": 14,
     "metadata": {},
     "output_type": "execute_result"
    }
   ],
   "source": [
    "merged_cols = merged_df.columns.tolist()\n",
    "merged_cols"
   ]
  },
  {
   "cell_type": "code",
   "execution_count": 15,
   "id": "51949a7a-2053-4d59-8887-5f971aa191fd",
   "metadata": {},
   "outputs": [
    {
     "data": {
      "text/html": [
       "<div>\n",
       "<style scoped>\n",
       "    .dataframe tbody tr th:only-of-type {\n",
       "        vertical-align: middle;\n",
       "    }\n",
       "\n",
       "    .dataframe tbody tr th {\n",
       "        vertical-align: top;\n",
       "    }\n",
       "\n",
       "    .dataframe thead th {\n",
       "        text-align: right;\n",
       "    }\n",
       "</style>\n",
       "<table border=\"1\" class=\"dataframe\">\n",
       "  <thead>\n",
       "    <tr style=\"text-align: right;\">\n",
       "      <th></th>\n",
       "      <th>Year</th>\n",
       "      <th>CO2_Emissions</th>\n",
       "      <th>Pesticides_Used</th>\n",
       "      <th>Population</th>\n",
       "      <th>Mean_Crop_Yield_MT_per_HA</th>\n",
       "      <th>Mean_Pesticide_Use_KG_per_HA</th>\n",
       "    </tr>\n",
       "  </thead>\n",
       "  <tbody>\n",
       "    <tr>\n",
       "      <th>count</th>\n",
       "      <td>270.000000</td>\n",
       "      <td>2.700000e+02</td>\n",
       "      <td>270.000000</td>\n",
       "      <td>2.700000e+02</td>\n",
       "      <td>270.000000</td>\n",
       "      <td>270.000000</td>\n",
       "    </tr>\n",
       "    <tr>\n",
       "      <th>mean</th>\n",
       "      <td>2004.500000</td>\n",
       "      <td>1.686077e+06</td>\n",
       "      <td>130068.154481</td>\n",
       "      <td>4.695220e+08</td>\n",
       "      <td>2.241645</td>\n",
       "      <td>25.187954</td>\n",
       "    </tr>\n",
       "    <tr>\n",
       "      <th>std</th>\n",
       "      <td>8.671515</td>\n",
       "      <td>2.764942e+06</td>\n",
       "      <td>123973.605468</td>\n",
       "      <td>5.593517e+08</td>\n",
       "      <td>0.200797</td>\n",
       "      <td>2.769867</td>\n",
       "    </tr>\n",
       "    <tr>\n",
       "      <th>min</th>\n",
       "      <td>1990.000000</td>\n",
       "      <td>7.277000e+04</td>\n",
       "      <td>948.790000</td>\n",
       "      <td>1.712630e+07</td>\n",
       "      <td>1.735667</td>\n",
       "      <td>18.301818</td>\n",
       "    </tr>\n",
       "    <tr>\n",
       "      <th>25%</th>\n",
       "      <td>1997.000000</td>\n",
       "      <td>2.639125e+05</td>\n",
       "      <td>37527.750000</td>\n",
       "      <td>3.690987e+07</td>\n",
       "      <td>2.115162</td>\n",
       "      <td>23.247200</td>\n",
       "    </tr>\n",
       "    <tr>\n",
       "      <th>50%</th>\n",
       "      <td>2004.500000</td>\n",
       "      <td>3.870200e+05</td>\n",
       "      <td>74765.500000</td>\n",
       "      <td>1.430372e+08</td>\n",
       "      <td>2.239486</td>\n",
       "      <td>25.103804</td>\n",
       "    </tr>\n",
       "    <tr>\n",
       "      <th>75%</th>\n",
       "      <td>2012.000000</td>\n",
       "      <td>1.871265e+06</td>\n",
       "      <td>214459.607500</td>\n",
       "      <td>1.184574e+09</td>\n",
       "      <td>2.372683</td>\n",
       "      <td>27.024125</td>\n",
       "    </tr>\n",
       "    <tr>\n",
       "      <th>max</th>\n",
       "      <td>2019.000000</td>\n",
       "      <td>1.070722e+07</td>\n",
       "      <td>620538.000000</td>\n",
       "      <td>1.423520e+09</td>\n",
       "      <td>2.860440</td>\n",
       "      <td>34.142000</td>\n",
       "    </tr>\n",
       "  </tbody>\n",
       "</table>\n",
       "</div>"
      ],
      "text/plain": [
       "              Year  CO2_Emissions  Pesticides_Used    Population  \\\n",
       "count   270.000000   2.700000e+02       270.000000  2.700000e+02   \n",
       "mean   2004.500000   1.686077e+06    130068.154481  4.695220e+08   \n",
       "std       8.671515   2.764942e+06    123973.605468  5.593517e+08   \n",
       "min    1990.000000   7.277000e+04       948.790000  1.712630e+07   \n",
       "25%    1997.000000   2.639125e+05     37527.750000  3.690987e+07   \n",
       "50%    2004.500000   3.870200e+05     74765.500000  1.430372e+08   \n",
       "75%    2012.000000   1.871265e+06    214459.607500  1.184574e+09   \n",
       "max    2019.000000   1.070722e+07    620538.000000  1.423520e+09   \n",
       "\n",
       "       Mean_Crop_Yield_MT_per_HA  Mean_Pesticide_Use_KG_per_HA  \n",
       "count                 270.000000                    270.000000  \n",
       "mean                    2.241645                     25.187954  \n",
       "std                     0.200797                      2.769867  \n",
       "min                     1.735667                     18.301818  \n",
       "25%                     2.115162                     23.247200  \n",
       "50%                     2.239486                     25.103804  \n",
       "75%                     2.372683                     27.024125  \n",
       "max                     2.860440                     34.142000  "
      ]
     },
     "execution_count": 15,
     "metadata": {},
     "output_type": "execute_result"
    }
   ],
   "source": [
    "# check stats\n",
    "merged_df.describe()"
   ]
  },
  {
   "cell_type": "markdown",
   "id": "c70dbbf2-d084-4f8a-8c09-10c8e331785b",
   "metadata": {},
   "source": [
    "### Linear Regressions"
   ]
  },
  {
   "cell_type": "code",
   "execution_count": 16,
   "id": "01144d37-7c88-4fc2-a623-0c1e9cd98603",
   "metadata": {},
   "outputs": [],
   "source": [
    "# function for linear regression and pearsons r\n",
    "def plot_correlation(df, x_label, y_label, agg_func='mean'):\n",
    "    \n",
    "    # Group the DataFrame by 'Year' and apply the aggregation function\n",
    "    if agg_func == 'mean':\n",
    "        grouped_df = df.groupby('Year')[[x_label, y_label]].mean().dropna()\n",
    "    elif agg_func == 'sum':\n",
    "        grouped_df = df.groupby('Year')[[x_label, y_label]].sum().dropna()\n",
    "    else:\n",
    "        raise ValueError(\"agg_func must be either 'mean' or 'sum'\")\n",
    "\n",
    "    # Get x and y data (grouped by Year)\n",
    "    x = grouped_df[x_label]\n",
    "    y = grouped_df[y_label]\n",
    "\n",
    "    # Check if x and y have enough data points\n",
    "    if len(x) < 2 or len(y) < 2:\n",
    "        print(\"Not enough data points to perform correlation analysis.\")\n",
    "        return\n",
    "\n",
    "    # Perform linear regression\n",
    "    slope, intercept, r, p, std_err = linregress(x, y)\n",
    "    line = slope * x + intercept\n",
    "\n",
    "    # Create the scatter plot\n",
    "    plt.scatter(x, y)\n",
    "    plt.plot(x, line, \"--\", color='red')  # Use red dashed line for the regression line\n",
    "    plt.xlabel(x_label)\n",
    "    plt.ylabel(y_label)\n",
    "    plt.title(f\"{x_label} vs {y_label} (Grouped by Year)\")\n",
    "    plt.show()\n",
    "\n",
    "    # Print the Pearson correlation coefficient\n",
    "    correlation_coefficient = round(pearsonr(x, y)[0], 2)\n",
    "    print(f\"The correlation coefficient between {x_label} and {y_label} is {correlation_coefficient}\")\n"
   ]
  },
  {
   "cell_type": "code",
   "execution_count": 17,
   "id": "282ec169-63fa-49f0-8872-752618184a54",
   "metadata": {},
   "outputs": [
    {
     "data": {
      "image/png": "[encoded data removed]",
      "text/plain": [
       "<Figure size 640x480 with 1 Axes>"
      ]
     },
     "metadata": {},
     "output_type": "display_data"
    },
    {
     "name": "stdout",
     "output_type": "stream",
     "text": [
      "The correlation coefficient between CO2_Emissions and Pesticides_Used is 0.99\n"
     ]
    },
    {
     "data": {
      "image/png": "[encoded data removed]",
      "text/plain": [
       "<Figure size 640x480 with 1 Axes>"
      ]
     },
     "metadata": {},
     "output_type": "display_data"
    },
    {
     "name": "stdout",
     "output_type": "stream",
     "text": [
      "The correlation coefficient between CO2_Emissions and Mean_Crop_Yield_MT_per_HA is 0.21\n"
     ]
    },
    {
     "data": {
      "image/png": "[encoded data removed]",
      "text/plain": [
       "<Figure size 640x480 with 1 Axes>"
      ]
     },
     "metadata": {},
     "output_type": "display_data"
    },
    {
     "name": "stdout",
     "output_type": "stream",
     "text": [
      "The correlation coefficient between CO2_Emissions and Mean_Pesticide_Use_KG_per_HA is 0.02\n"
     ]
    }
   ],
   "source": [
    "# list to loop through\n",
    "crop_vars = ['Pesticides_Used', 'Mean_Crop_Yield_MT_per_HA', 'Mean_Pesticide_Use_KG_per_HA']\n",
    "\n",
    "# Loop through list to investigate the correlation between CO2 emissions and other variables\n",
    "for var in crop_vars:\n",
    "    plot_correlation(merged_df, 'CO2_Emissions', var, agg_func='mean')"
   ]
  },
  {
   "cell_type": "code",
   "execution_count": null,
   "id": "2fb04008-053e-4c1d-b94b-14f3e1d6358e",
   "metadata": {},
   "outputs": [],
   "source": []
  },
  {
   "cell_type": "code",
   "execution_count": null,
   "id": "85589829-c392-49b2-8860-d3e6838dcfab",
   "metadata": {},
   "outputs": [],
   "source": []
  },
  {
   "cell_type": "code",
   "execution_count": null,
   "id": "4ea55198-f312-437c-8ac9-1aed5d9bcdb0",
   "metadata": {},
   "outputs": [],
   "source": []
  }
 ],
 "metadata": {
  "kernelspec": {
   "display_name": "Python 3 (ipykernel)",
   "language": "python",
   "name": "python3"
  },
  "language_info": {
   "codemirror_mode": {
    "name": "ipython",
    "version": 3
   },
   "file_extension": ".py",
   "mimetype": "text/x-python",
   "name": "python",
   "nbconvert_exporter": "python",
   "pygments_lexer": "ipython3",
   "version": "3.10.14"
  }
 },
 "nbformat": 4,
 "nbformat_minor": 5
}
