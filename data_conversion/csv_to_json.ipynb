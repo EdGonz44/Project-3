{
 "cells": [
  {
   "cell_type": "code",
   "execution_count": 4,
   "metadata": {},
   "outputs": [],
   "source": [
    "import pandas as pd\n",
    "import os"
   ]
  },
  {
   "cell_type": "code",
   "execution_count": 6,
   "metadata": {},
   "outputs": [
    {
     "name": "stdout",
     "output_type": "stream",
     "text": [
      "CSV has been successfully converted to JSON and saved at: output/data.json\n"
     ]
    }
   ],
   "source": [
    "# Step 1: Load the CSV file\n",
    "\n",
    "df = pd.read_csv('Co2_emission_data.csv')\n",
    "\n",
    "# Step 2: Convert DataFrame to JSON format\n",
    "json_data = df.to_json(orient='records')\n",
    "\n",
    "# Step 3: Specify where to save the JSON file\n",
    "output_folder = 'output'  # This folder will be created if it doesn't exist\n",
    "if not os.path.exists(output_folder):\n",
    "    os.makedirs(output_folder)\n",
    "\n",
    "json_file_path = os.path.join(output_folder, 'data.json')\n",
    "\n",
    "# Step 4: Save the JSON data to a file\n",
    "with open(json_file_path, 'w') as json_file:\n",
    "    json_file.write(json_data)\n",
    "\n",
    "print(f\"CSV has been successfully converted to JSON and saved at: {json_file_path}\")\n"
   ]
  },
  {
   "cell_type": "code",
   "execution_count": null,
   "metadata": {},
   "outputs": [],
   "source": []
  },
  {
   "cell_type": "code",
   "execution_count": null,
   "metadata": {},
   "outputs": [],
   "source": []
  }
 ],
 "metadata": {
  "kernelspec": {
   "display_name": "Python 3 (ipykernel)",
   "language": "python",
   "name": "python3"
  },
  "language_info": {
   "codemirror_mode": {
    "name": "ipython",
    "version": 3
   },
   "file_extension": ".py",
   "mimetype": "text/x-python",
   "name": "python",
   "nbconvert_exporter": "python",
   "pygments_lexer": "ipython3",
   "version": "3.10.14"
  }
 },
 "nbformat": 4,
 "nbformat_minor": 4
}
